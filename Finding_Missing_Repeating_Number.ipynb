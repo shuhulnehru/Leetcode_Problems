{
  "nbformat": 4,
  "nbformat_minor": 0,
  "metadata": {
    "colab": {
      "provenance": []
    },
    "kernelspec": {
      "name": "python3",
      "display_name": "Python 3"
    },
    "language_info": {
      "name": "python"
    }
  },
  "cells": [
    {
      "cell_type": "code",
      "execution_count": 1,
      "metadata": {
        "id": "REg4NoSQopjL"
      },
      "outputs": [],
      "source": [
        "#Method 1 - We can simply sort the array and check the next position of array and if its same we can get the i-1 position and repeating number"
      ]
    },
    {
      "cell_type": "markdown",
      "source": [
        "#Method 2"
      ],
      "metadata": {
        "id": "2OYYj5d8GWe7"
      }
    },
    {
      "cell_type": "code",
      "source": [
        "def semi_optimized_approach(array):\n",
        "    n = len(array)\n",
        "    temp_array=[0] * (n + 1) #We are creating a temp array and keeping all values as zero so that we keep track of frequencies of all the elements of array.\n",
        "    res_array=[]\n",
        "    for elements in array:\n",
        "        temp_array[elements]+=1 #Updating values of all elements in temp array and incrementing its value by 1 on all occurences.\n",
        "    for i in range(1,n+1):\n",
        "        if temp_array[i]==0:\n",
        "            res_array.append(i) #indexes with value 0 is the missing number\n",
        "        if (temp_array[i]>1):\n",
        "            res_array.append(i) #indexes with value 2 or above is the repeating number\n",
        "    print(\"Missing Number is : \",res_array[0])\n",
        "    print(\"Repeating Number is : \",res_array[1])"
      ],
      "metadata": {
        "id": "t9rDylaOGREU"
      },
      "execution_count": 6,
      "outputs": []
    },
    {
      "cell_type": "code",
      "source": [
        "test_array = [7, 3, 4, 5, 5, 6, 2]\n",
        "semi_optimized_approach(test_array)"
      ],
      "metadata": {
        "colab": {
          "base_uri": "https://localhost:8080/"
        },
        "id": "I0L8phePcS8P",
        "outputId": "ee107956-e5e2-4b1a-decb-14c3b7086d09"
      },
      "execution_count": 7,
      "outputs": [
        {
          "output_type": "stream",
          "name": "stdout",
          "text": [
            "Missing Number is :  1\n",
            "Repeating Number is :  5\n"
          ]
        }
      ]
    },
    {
      "cell_type": "markdown",
      "source": [
        "#Method 3"
      ],
      "metadata": {
        "id": "q_-hEpLjNh_2"
      }
    },
    {
      "cell_type": "code",
      "source": [
        "def optimized_math(array):\n",
        "    res = []\n",
        "    n=len(array)\n",
        "    expected_sum = (n*(n+1))//2\n",
        "    expected_square_sum = (n * (n+1) * (2*n+1))//6\n",
        "    actual_sum = sum(array)\n",
        "    actual_square_sum = sum(i*i for i in array)\n",
        "    diff_sum = actual_sum - expected_sum\n",
        "    diff_sq_sum = actual_square_sum - expected_square_sum\n",
        "    equation_sum = diff_sq_sum//diff_sum\n",
        "    r = (equation_sum + diff_sum) // 2\n",
        "    m = (equation_sum-diff_sum) // 2\n",
        "    res.append(m)\n",
        "    print(\"Missing Number is : \", res[0])\n",
        "    res.append(r)\n",
        "    print(\"Repeating Number is : \", res[1])"
      ],
      "metadata": {
        "id": "docLvneoVMPn"
      },
      "execution_count": 33,
      "outputs": []
    },
    {
      "cell_type": "code",
      "source": [
        "optimized_math(test_array)"
      ],
      "metadata": {
        "colab": {
          "base_uri": "https://localhost:8080/"
        },
        "id": "fJB6nLg5sSeg",
        "outputId": "0f65af24-1dc0-4dd4-b6c7-df56527fa8a8"
      },
      "execution_count": 34,
      "outputs": [
        {
          "output_type": "stream",
          "name": "stdout",
          "text": [
            "Missing Number is :  1\n",
            "Repeating Number is :  5\n"
          ]
        }
      ]
    }
  ]
}