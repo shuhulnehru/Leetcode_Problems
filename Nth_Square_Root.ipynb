{
 "cells": [
  {
   "cell_type": "markdown",
   "metadata": {},
   "source": [
    "## N'th Square root"
   ]
  },
  {
   "cell_type": "code",
   "execution_count": 3,
   "metadata": {},
   "outputs": [],
   "source": [
    "def multiply(n,m):\n",
    "    answer=1\n",
    "    for _ in range(m):\n",
    "        answer=answer*n\n",
    "    return answer"
   ]
  },
  {
   "cell_type": "code",
   "execution_count": 4,
   "metadata": {},
   "outputs": [],
   "source": [
    "def n_root(n,m):\n",
    "    low=1\n",
    "    high=m\n",
    "    eps = 1e-4\n",
    "    while(high-low>eps):\n",
    "        mid=((low+high)/2)\n",
    "        if(multiply(mid,n)<m):\n",
    "            low=mid\n",
    "        else:\n",
    "            high=mid\n",
    "    return mid"
   ]
  },
  {
   "cell_type": "code",
   "execution_count": 18,
   "metadata": {},
   "outputs": [
    {
     "name": "stdout",
     "output_type": "stream",
     "text": [
      "cube of 64 is  262144\n",
      "cube_root of 64 is  4.000048637390137\n"
     ]
    }
   ],
   "source": [
    "test_number = 64\n",
    "test_power = 3\n",
    "\n",
    "multiply_result = multiply(test_number, test_power)\n",
    "print(f\"cube of {test_number} is \", multiply_result)\n",
    "\n",
    "n_root_result = n_root(test_power, test_number)\n",
    "print(f\"cube_root of {test_number} is \", n_root_result)\n"
   ]
  },
  {
   "cell_type": "code",
   "execution_count": null,
   "metadata": {},
   "outputs": [],
   "source": []
  }
 ],
 "metadata": {
  "kernelspec": {
   "display_name": "base",
   "language": "python",
   "name": "python3"
  },
  "language_info": {
   "codemirror_mode": {
    "name": "ipython",
    "version": 3
   },
   "file_extension": ".py",
   "mimetype": "text/x-python",
   "name": "python",
   "nbconvert_exporter": "python",
   "pygments_lexer": "ipython3",
   "version": "3.11.4"
  }
 },
 "nbformat": 4,
 "nbformat_minor": 2
}
