{
  "nbformat": 4,
  "nbformat_minor": 0,
  "metadata": {
    "colab": {
      "provenance": []
    },
    "kernelspec": {
      "name": "python3",
      "display_name": "Python 3"
    },
    "language_info": {
      "name": "python"
    }
  },
  "cells": [
    {
      "cell_type": "markdown",
      "source": [
        "Binary Search"
      ],
      "metadata": {
        "id": "8LGScZVM6jzg"
      }
    },
    {
      "cell_type": "code",
      "execution_count": 34,
      "metadata": {
        "id": "3LfDT2FIPQkh"
      },
      "outputs": [],
      "source": [
        "x = [1,2,8,1,3,9]"
      ]
    },
    {
      "cell_type": "code",
      "source": [
        "def binary_search(array,element):\n",
        "    low=0\n",
        "    high=len(array)-1\n",
        "    while(low<high):\n",
        "        mid=(low+high)//2\n",
        "        if(array[mid]==element):\n",
        "            print(\" Element found at\",(mid+1),\"position\")\n",
        "        if(array[mid]<element):\n",
        "            low=mid+1\n",
        "        else:\n",
        "            high=mid-1"
      ],
      "metadata": {
        "id": "3YZ8Inlf0Mex"
      },
      "execution_count": 35,
      "outputs": []
    },
    {
      "cell_type": "code",
      "source": [
        "binary_search(x,8)"
      ],
      "metadata": {
        "colab": {
          "base_uri": "https://localhost:8080/"
        },
        "id": "s-HTJzJb6VO-",
        "outputId": "d7687fbd-c90f-4927-d58d-f4fd2e706642"
      },
      "execution_count": 36,
      "outputs": [
        {
          "output_type": "stream",
          "name": "stdout",
          "text": [
            " Element found at 3 position\n"
          ]
        }
      ]
    },
    {
      "cell_type": "markdown",
      "source": [
        "Merge Sort"
      ],
      "metadata": {
        "id": "g4ZkXRBz6mkm"
      }
    },
    {
      "cell_type": "code",
      "source": [
        "def divide(num,aux,low,high):\n",
        "    if(low>=high):\n",
        "        return\n",
        "    mid = (low+high)//2\n",
        "    divide(num,aux,mid+1,high)\n",
        "    divide(num,aux,low,mid)\n",
        "    conquer(num,aux,low,mid,high)"
      ],
      "metadata": {
        "id": "ihvbq4ha6YkP"
      },
      "execution_count": 37,
      "outputs": []
    },
    {
      "cell_type": "code",
      "source": [
        "def conquer(num,aux,low,mid,high):\n",
        "    i=k=low\n",
        "    j=mid+1\n",
        "    while(i<=mid and j<=high):\n",
        "        if(num[i]<=num[j]):\n",
        "            aux[k]=num[i]\n",
        "            i+=1\n",
        "        else:\n",
        "            aux[k]=num[j]\n",
        "            j+=1\n",
        "        k+=1\n",
        "    while(i<=mid):\n",
        "        aux[k]=num[i]\n",
        "        i+=1\n",
        "        k+=1\n",
        "    while(j<=high):\n",
        "        aux[k]=num[j]\n",
        "        j+=1\n",
        "        k+=1\n",
        "    for index in range(low,high+1):\n",
        "        num[index]=aux[index]"
      ],
      "metadata": {
        "id": "RXnpVIBuJOmh"
      },
      "execution_count": 38,
      "outputs": []
    },
    {
      "cell_type": "code",
      "source": [
        "divide(x,x.copy(),0,len(x)-1)\n",
        "print(\" Sorted Array is :\",x)"
      ],
      "metadata": {
        "colab": {
          "base_uri": "https://localhost:8080/"
        },
        "id": "VmiYH7gHUNdB",
        "outputId": "8dff07c7-3617-452c-dcad-55816046bf4f"
      },
      "execution_count": 39,
      "outputs": [
        {
          "output_type": "stream",
          "name": "stdout",
          "text": [
            " Sorted Array is : [1, 1, 2, 3, 8, 9]\n"
          ]
        }
      ]
    },
    {
      "cell_type": "markdown",
      "source": [
        "Quick Sort"
      ],
      "metadata": {
        "id": "CXFLNsEujEYP"
      }
    },
    {
      "cell_type": "code",
      "source": [
        "def quicksort(num, low, high):\n",
        "    if low < high:\n",
        "        pivot_index = partition(num, low, high)\n",
        "        quicksort(num, low, pivot_index - 1)\n",
        "        quicksort(num, pivot_index + 1, high)"
      ],
      "metadata": {
        "id": "Oz4MyMVp2X62"
      },
      "execution_count": 40,
      "outputs": []
    },
    {
      "cell_type": "code",
      "source": [
        "def partition(num, low, high):\n",
        "    pivot = num[high]\n",
        "    i = low - 1\n",
        "    for j in range(low, high):\n",
        "        if num[j] < pivot:\n",
        "            i += 1\n",
        "            num[i], num[j] = num[j], num[i]\n",
        "    num[i + 1], num[high] = num[high], num[i + 1]\n",
        "    return i + 1"
      ],
      "metadata": {
        "id": "LF5FMo9B2-uo"
      },
      "execution_count": 41,
      "outputs": []
    },
    {
      "cell_type": "code",
      "source": [
        "quicksort(x, 0, len(x) - 1)\n",
        "print(\"Sorted array:\", x)"
      ],
      "metadata": {
        "colab": {
          "base_uri": "https://localhost:8080/"
        },
        "id": "teX3E9ED1A3R",
        "outputId": "a36041df-78b3-4b8f-c5d4-0dc80b7a5ae6"
      },
      "execution_count": 42,
      "outputs": [
        {
          "output_type": "stream",
          "name": "stdout",
          "text": [
            "Sorted array: [1, 1, 2, 3, 8, 9]\n"
          ]
        }
      ]
    },
    {
      "cell_type": "code",
      "source": [],
      "metadata": {
        "id": "6owPMQq_3Fq4"
      },
      "execution_count": null,
      "outputs": []
    }
  ]
}